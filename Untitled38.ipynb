{
  "nbformat": 4,
  "nbformat_minor": 0,
  "metadata": {
    "colab": {
      "name": "Untitled38.ipynb",
      "provenance": [],
      "authorship_tag": "ABX9TyOntfQ/oZGkhmh9M5RtWFxr",
      "include_colab_link": true
    },
    "kernelspec": {
      "name": "python3",
      "display_name": "Python 3"
    }
  },
  "cells": [
    {
      "cell_type": "markdown",
      "metadata": {
        "id": "view-in-github",
        "colab_type": "text"
      },
      "source": [
        "<a href=\"https://colab.research.google.com/github/19PA1A0527/07-03-2001/blob/master/Untitled38.ipynb\" target=\"_parent\"><img src=\"https://colab.research.google.com/assets/colab-badge.svg\" alt=\"Open In Colab\"/></a>"
      ]
    },
    {
      "cell_type": "code",
      "metadata": {
        "id": "EXDTPz23qhNO",
        "colab_type": "code",
        "colab": {}
      },
      "source": [
        ""
      ],
      "execution_count": null,
      "outputs": []
    },
    {
      "cell_type": "code",
      "metadata": {
        "id": "TDXzwoAbqiG_",
        "colab_type": "code",
        "colab": {}
      },
      "source": [
        ""
      ],
      "execution_count": null,
      "outputs": []
    },
    {
      "cell_type": "markdown",
      "metadata": {
        "id": "BNq461vgqrXZ",
        "colab_type": "text"
      },
      "source": [
        "perfect number program"
      ]
    },
    {
      "cell_type": "code",
      "metadata": {
        "id": "05uwJFQ_qvcY",
        "colab_type": "code",
        "colab": {
          "base_uri": "https://localhost:8080/",
          "height": 51
        },
        "outputId": "f692bed5-55fd-407d-d0c7-009a583908a1"
      },
      "source": [
        "num = int(input('Enter the no: '))\n",
        "result = 0\n",
        "for i in range(1,num):\n",
        "  if(num%i==0):\n",
        "    result=result+i\n",
        "if(result==num):\n",
        "  print(num,'is perfect number')\n",
        "else:\n",
        "  print(num,'is not a perfect number')\n",
        "  "
      ],
      "execution_count": 1,
      "outputs": [
        {
          "output_type": "stream",
          "text": [
            "Enter the no: 6\n",
            "6 is perfect number\n"
          ],
          "name": "stdout"
        }
      ]
    },
    {
      "cell_type": "code",
      "metadata": {
        "id": "cKG4DAFrrZUj",
        "colab_type": "code",
        "colab": {}
      },
      "source": [
        ""
      ],
      "execution_count": 1,
      "outputs": []
    },
    {
      "cell_type": "markdown",
      "metadata": {
        "id": "LENJsuIOrjlg",
        "colab_type": "text"
      },
      "source": [
        "strong no **program**"
      ]
    },
    {
      "cell_type": "code",
      "metadata": {
        "id": "FTf4m7SDrnGh",
        "colab_type": "code",
        "colab": {
          "base_uri": "https://localhost:8080/",
          "height": 51
        },
        "outputId": "199f1f2c-060a-490a-aaad-b05981356da3"
      },
      "source": [
        "import math\n",
        "sum=0\n",
        "num=int(input(\"Enter the number: \"))\n",
        "temp=num\n",
        "while(num>0):\n",
        "  l=num%10\n",
        "  sum=sum+math.factorial(l)\n",
        "  num=num//10\n",
        "if(temp==sum):\n",
        "  print('Yes')\n",
        "else:\n",
        "  print('No')"
      ],
      "execution_count": 2,
      "outputs": [
        {
          "output_type": "stream",
          "text": [
            "Enter the number: 3\n",
            "No\n"
          ],
          "name": "stdout"
        }
      ]
    }
  ]
}